{
 "cells": [
  {
   "attachments": {},
   "cell_type": "markdown",
   "metadata": {},
   "source": [
    "# Scenarios\n",
    "\n",
    "## Billing\n",
    "\n",
    "## Cash on Hands\n",
    "\n",
    "### COH-03\n",
    "\n",
    "#### Scenario 1\n",
    "\n",
    "##### Situation\n",
    "- A fraudster withdraws corporate cash, and reporting it as an internal transaction for cash collections/sweepings.\n",
    "- The fraudster desposits the withdrawn amount to a different personal account and uses deposited fund for personal gains(investments or gamblings).\n",
    "- Excluding gains, the fraudster returns the money into designated bank account, which originally should have done immediately after the withdrawal.\n",
    "\n",
    "##### Transactions\n",
    "- Company book: (Same Date) Dr. Cash-Account_A XXX / Cr. Cash-Account_B XXX\n",
    "- Bank record: (Different dates) Withdrawal from an account, deposit to a different account\n",
    "\n",
    "##### Analytics\n"
   ]
  }
 ],
 "metadata": {
  "language_info": {
   "name": "python"
  },
  "orig_nbformat": 4
 },
 "nbformat": 4,
 "nbformat_minor": 2
}
