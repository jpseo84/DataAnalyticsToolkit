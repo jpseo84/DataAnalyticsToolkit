{
 "cells": [
  {
   "attachments": {},
   "cell_type": "markdown",
   "metadata": {},
   "source": [
    "# Scenarios\n",
    "\n",
    "## Billing\n",
    "\n",
    "## Cash on Hands\n",
    "\n",
    "This section pertains to scenarios that involve manipulation of physical cash or cash accounts within the company.\n",
    "\n",
    "### COH-03\n",
    "\n",
    "#### Scenario 1\n",
    "\n",
    "##### Situation\n",
    "- A fraudulent employee withdraws corporate cash from Bank Account A (Cash-Account_A), reporting it as an internal transaction meant for cash collections/sweepings into Bank Account B (Cash-Account_B).\n",
    "- The fraudster deposits the withdrawn amount into a different personal account for personal gains such as investments or gambling.\n",
    "- The fraudster then returns the principal amount (excluding gains) back into Bank Account B, an action that should have been done immediately after the withdrawal under normal circumstances.\n",
    "\n",
    "##### Transactions\n",
    "- Company book: The company's books reflect a same-day internal transfer between the accounts: Dr. Cash-Account_A XXX / Cr. Cash-Account_B XXX\n",
    "- Bank record: The bank records, however, show different dates for the withdrawal from one account and the deposit into a different account.\n",
    "\n",
    "##### Analytics\n",
    "In this section, we will employ data analytics to identify such fraudulent activities. The key to detecting this kind of fraud is the discrepancy between the company's books and the bank records. A legitimate same-day internal transfer between two company accounts (as per the company books) should also reflect as a same-day transfer in the bank records. Any discrepancies in the dates or amounts between the two could potentially signal fraudulent activity.\n",
    "\n",
    "We will use a combination of Dask and Pandas libraries to process and analyze large datasets. We will be comparing transactions on the company books with the corresponding bank records, looking for inconsistencies in transaction dates and amounts. We will use Dask to load and preprocess the data due to its ability to handle larger-than-memory computations, and then switch to Pandas for more complex data manipulations and comparisons."
   ]
  }
 ],
 "metadata": {
  "language_info": {
   "name": "python"
  },
  "orig_nbformat": 4
 },
 "nbformat": 4,
 "nbformat_minor": 2
}
